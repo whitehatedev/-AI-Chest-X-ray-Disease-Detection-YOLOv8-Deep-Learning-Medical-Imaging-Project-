{
  "nbformat": 4,
  "nbformat_minor": 0,
  "metadata": {
    "colab": {
      "provenance": []
    },
    "kernelspec": {
      "name": "python3",
      "display_name": "Python 3"
    },
    "language_info": {
      "name": "python"
    }
  },
  "cells": [
    {
      "cell_type": "code",
      "execution_count": null,
      "metadata": {
        "id": "vYo3ZoG7hnMP"
      },
      "outputs": [],
      "source": [
        "!nvidia-smi"
      ]
    },
    {
      "cell_type": "code",
      "source": [
        "from google.colab import drive\n",
        "drive.mount('/content/drive')"
      ],
      "metadata": {
        "id": "eE9t5kTziKn5"
      },
      "execution_count": null,
      "outputs": []
    },
    {
      "cell_type": "code",
      "source": [
        "!pip install ultralytics"
      ],
      "metadata": {
        "id": "WS-YPCeCiM5H"
      },
      "execution_count": null,
      "outputs": []
    },
    {
      "cell_type": "code",
      "source": [
        "from ultralytics import YOLO"
      ],
      "metadata": {
        "id": "uT97Nm7QiQit"
      },
      "execution_count": null,
      "outputs": []
    },
    {
      "cell_type": "code",
      "source": [
        "import os\n",
        "os.environ['WANDB_MODE'] = 'disabled'"
      ],
      "metadata": {
        "id": "WURmZy2GiQnW"
      },
      "execution_count": null,
      "outputs": []
    },
    {
      "cell_type": "code",
      "source": [
        "!pip install roboflow\n",
        "\n",
        "from roboflow import Roboflow\n",
        "rf = Roboflow(api_key=\"6G2Fht3iq60QKnAK0RJG\")\n",
        "project = rf.workspace(\"sahil-pkd23\").project(\"my-first-project-0tkpm\")\n",
        "version = project.version(1)\n",
        "dataset = version.download(\"yolov8\")\n"
      ],
      "metadata": {
        "id": "EEo7TVmOiVJp"
      },
      "execution_count": null,
      "outputs": []
    },
    {
      "cell_type": "code",
      "source": [
        "!yolo detect train model=yolov8s.pt data=\"/content/My-First-Project-1/data.yaml\" epochs=80 imgsz=396 plots=True\n"
      ],
      "metadata": {
        "id": "P3jQrk6GiXCV"
      },
      "execution_count": null,
      "outputs": []
    }
  ]
}